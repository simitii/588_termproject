{
 "cells": [
  {
   "cell_type": "code",
   "execution_count": 1,
   "metadata": {},
   "outputs": [],
   "source": [
    "from src.adaptive_epsilon import adaptive_epsilon"
   ]
  },
  {
   "cell_type": "code",
   "execution_count": 2,
   "metadata": {},
   "outputs": [],
   "source": [
    "import torch\n",
    "import torchvision.transforms as transforms\n",
    "import torchvision.datasets as datasets\n",
    "\n",
    "fashion_train = datasets.FashionMNIST(\"./fashion_mnist\", train=True,\n",
    "       download=True, transform=transforms.ToTensor())\n",
    "train_loader = torch.utils.data.DataLoader(fashion_train, batch_size=1, shuffle=True, pin_memory=True)"
   ]
  },
  {
   "cell_type": "code",
   "execution_count": 3,
   "metadata": {},
   "outputs": [],
   "source": [
    "target_epsilon = 0.1\n",
    "batch_size = 50\n",
    "\n",
    "instance_adaptive_loader = adaptive_epsilon(train_loader, target_epsilon, batch_size)"
   ]
  },
  {
   "cell_type": "code",
   "execution_count": 4,
   "metadata": {},
   "outputs": [
    {
     "data": {
      "text/plain": [
       "'1.17.4'"
      ]
     },
     "execution_count": 4,
     "metadata": {},
     "output_type": "execute_result"
    }
   ],
   "source": [
    "import numpy as np\n",
    "np.__version__"
   ]
  },
  {
   "cell_type": "code",
   "execution_count": 5,
   "metadata": {},
   "outputs": [],
   "source": [
    "import matplotlib.pyplot as plt \n",
    "import numpy as np"
   ]
  },
  {
   "cell_type": "code",
   "execution_count": null,
   "metadata": {},
   "outputs": [],
   "source": []
  },
  {
   "cell_type": "code",
   "execution_count": 6,
   "metadata": {},
   "outputs": [],
   "source": [
    "arr = []\n",
    "for i, ([X],[y], [eps]) in enumerate(instance_adaptive_loader):\n",
    "    arr.append(eps.item())"
   ]
  },
  {
   "cell_type": "code",
   "execution_count": 7,
   "metadata": {},
   "outputs": [
    {
     "data": {
      "text/plain": [
       "0.0010000000474974513"
      ]
     },
     "execution_count": 7,
     "metadata": {},
     "output_type": "execute_result"
    }
   ],
   "source": [
    "np.min(arr)"
   ]
  },
  {
   "cell_type": "code",
   "execution_count": 8,
   "metadata": {},
   "outputs": [
    {
     "data": {
      "text/plain": [
       "Text(0.5, 1.0, 'Histogram of distance to the closest sample of other classes')"
      ]
     },
     "execution_count": 8,
     "metadata": {},
     "output_type": "execute_result"
    },
    {
     "data": {
      "image/png": "[encoded data removed]",
      "text/plain": [
       "<Figure size 432x288 with 1 Axes>"
      ]
     },
     "metadata": {
      "needs_background": "light"
     },
     "output_type": "display_data"
    }
   ],
   "source": [
    "fig, ax = plt.subplots()\n",
    "\n",
    "# the histogram of the data\n",
    "n, bins, patches = plt.hist(np.repeat(arr, batch_size), 50)\n",
    "\n",
    "ax.set_xlabel('$L_2$ Distance to the closest sample of other classes')\n",
    "ax.set_ylabel('Probability density')\n",
    "ax.set_title(r'Histogram of distance to the closest sample of other classes')"
   ]
  },
  {
   "cell_type": "code",
   "execution_count": 9,
   "metadata": {},
   "outputs": [
    {
     "data": {
      "text/plain": [
       "Text(0.5, 1.0, 'Histogram of $\\\\epsilon$ values: $\\\\mu=\\\\epsilon_{target} / 2$, $\\\\sigma=\\\\epsilon_{target} / 4$')"
      ]
     },
     "execution_count": 9,
     "metadata": {},
     "output_type": "execute_result"
    },
    {
     "data": {
      "image/png": "[encoded data removed]",
      "text/plain": [
       "<Figure size 432x288 with 1 Axes>"
      ]
     },
     "metadata": {
      "needs_background": "light"
     },
     "output_type": "display_data"
    }
   ],
   "source": [
    "fig, ax = plt.subplots()\n",
    "\n",
    "# the histogram of the data\n",
    "n, bins, patches = plt.hist(np.repeat(arr, batch_size), 50)\n",
    "\n",
    "ax.set_xlabel('$\\epsilon$ values')\n",
    "ax.set_ylabel('Probability density')\n",
    "ax.set_title(r'Histogram of $\\epsilon$ values: $\\mu=\\epsilon_{target} / 2$, $\\sigma=\\epsilon_{target} / 4$')\n",
    "\n"
   ]
  },
  {
   "cell_type": "code",
   "execution_count": 8,
   "metadata": {},
   "outputs": [
    {
     "name": "stdout",
     "output_type": "stream",
     "text": [
      "tensor([[[[0.0000, 0.0000, 0.0000, 0.0000, 0.0000, 0.0000, 0.0000, 0.0000,\n",
      "           0.0000, 0.0000, 0.0000, 0.0000, 0.0000, 0.0000, 0.0000, 0.0000,\n",
      "           0.0000, 0.0000, 0.0000, 0.0000, 0.0000, 0.0000, 0.0000, 0.0000,\n",
      "           0.0000, 0.0000, 0.0000, 0.0000],\n",
      "          [0.0000, 0.0000, 0.0000, 0.0000, 0.0000, 0.0000, 0.0000, 0.0000,\n",
      "           0.0000, 0.0000, 0.0000, 0.0000, 0.0000, 0.0000, 0.0000, 0.0000,\n",
      "           0.0000, 0.0000, 0.0000, 0.0000, 0.0000, 0.0000, 0.0000, 0.0000,\n",
      "           0.0000, 0.0000, 0.0000, 0.0000],\n",
      "          [0.0000, 0.0000, 0.0000, 0.0000, 0.0000, 0.0000, 0.0000, 0.0000,\n",
      "           0.0000, 0.0000, 0.0000, 0.0000, 0.0000, 0.0000, 0.0000, 0.0000,\n",
      "           0.0000, 0.0000, 0.0000, 0.0000, 0.0000, 0.0000, 0.0000, 0.0000,\n",
      "           0.0000, 0.0000, 0.0000, 0.0000],\n",
      "          [0.0000, 0.0000, 0.0000, 0.0000, 0.0000, 0.0000, 0.0000, 0.0000,\n",
      "           0.0000, 0.0000, 0.0000, 0.0000, 0.0000, 0.0000, 0.0000, 0.0000,\n",
      "           0.0000, 0.0000, 0.0000, 0.0000, 0.0000, 0.0000, 0.0000, 0.0000,\n",
      "           0.0000, 0.0000, 0.0000, 0.0000],\n",
      "          [0.0000, 0.0000, 0.0000, 0.0000, 0.0000, 0.0000, 0.0000, 0.0000,\n",
      "           0.0000, 0.0000, 0.0000, 0.0000, 0.0000, 0.0000, 0.0000, 0.0000,\n",
      "           0.0000, 0.0000, 0.0000, 0.0000, 0.0000, 0.0000, 0.0000, 0.0000,\n",
      "           0.0000, 0.0000, 0.0000, 0.0000],\n",
      "          [0.0000, 0.0000, 0.0000, 0.0000, 0.0000, 0.0000, 0.0000, 0.0000,\n",
      "           0.0000, 0.0000, 0.0000, 0.0000, 0.0000, 0.0000, 0.0000, 0.0000,\n",
      "           0.0000, 0.0000, 0.0000, 0.0000, 0.0000, 0.0000, 0.0000, 0.0000,\n",
      "           0.0000, 0.0000, 0.0000, 0.0000],\n",
      "          [0.0000, 0.0000, 0.0000, 0.0000, 0.0000, 0.0000, 0.0000, 0.0000,\n",
      "           0.0000, 0.0000, 0.0000, 0.0000, 0.0000, 0.0000, 0.0000, 0.0000,\n",
      "           0.0000, 0.0039, 0.0039, 0.0039, 0.0000, 0.0000, 0.0039, 0.0000,\n",
      "           0.0000, 0.1333, 0.0000, 0.0000],\n",
      "          [0.0000, 0.0000, 0.0000, 0.0000, 0.0000, 0.0000, 0.0000, 0.0000,\n",
      "           0.0000, 0.0000, 0.0000, 0.0000, 0.0000, 0.0000, 0.0000, 0.0157,\n",
      "           0.0157, 0.0039, 0.0000, 0.0000, 0.0000, 0.0000, 0.0000, 0.0000,\n",
      "           0.0000, 0.6863, 0.1529, 0.0000],\n",
      "          [0.0000, 0.0000, 0.0000, 0.0000, 0.0000, 0.0000, 0.0000, 0.0000,\n",
      "           0.0000, 0.0000, 0.0000, 0.0000, 0.0039, 0.0000, 0.0000, 0.0000,\n",
      "           0.0000, 0.0000, 0.0000, 0.0000, 0.0000, 0.0000, 0.0000, 0.0000,\n",
      "           0.0000, 0.2941, 0.2980, 0.0000],\n",
      "          [0.0000, 0.0000, 0.0000, 0.0000, 0.0000, 0.0000, 0.0000, 0.0000,\n",
      "           0.0000, 0.0000, 0.0000, 0.0000, 0.0000, 0.0314, 0.0000, 0.2980,\n",
      "           0.6471, 0.6667, 0.7412, 0.8980, 0.4157, 0.6863, 0.8431, 0.7961,\n",
      "           0.6824, 0.7373, 0.1843, 0.0000],\n",
      "          [0.0000, 0.0000, 0.0000, 0.0000, 0.0000, 0.0000, 0.0000, 0.0000,\n",
      "           0.0000, 0.0000, 0.0000, 0.0000, 0.0039, 0.0000, 0.0000, 0.7373,\n",
      "           1.0000, 0.8980, 0.8941, 0.9059, 0.7255, 0.9216, 0.9569, 0.9333,\n",
      "           0.9137, 0.9686, 0.1294, 0.0000],\n",
      "          [0.0000, 0.0000, 0.0000, 0.0000, 0.0000, 0.0000, 0.0000, 0.0000,\n",
      "           0.0000, 0.0000, 0.0000, 0.0000, 0.0039, 0.0000, 0.2039, 0.9412,\n",
      "           0.8745, 0.8392, 0.8667, 0.8510, 0.7176, 0.9137, 0.9137, 0.8745,\n",
      "           0.8588, 0.9294, 0.1804, 0.0000],\n",
      "          [0.0000, 0.0000, 0.0000, 0.0000, 0.0000, 0.0000, 0.0000, 0.0000,\n",
      "           0.0000, 0.0000, 0.0000, 0.0000, 0.0000, 0.0000, 0.8667, 0.9451,\n",
      "           0.8510, 0.8235, 0.8980, 0.8588, 0.8157, 0.9529, 0.9176, 0.9020,\n",
      "           0.8588, 0.9216, 0.1373, 0.0000],\n",
      "          [0.0000, 0.0000, 0.0000, 0.0000, 0.0000, 0.0000, 0.0000, 0.0000,\n",
      "           0.0157, 0.0000, 0.0392, 0.0000, 0.0000, 0.6902, 0.9137, 0.8353,\n",
      "           0.8039, 0.8039, 0.9020, 0.8039, 0.8431, 0.9451, 0.8980, 0.9059,\n",
      "           0.8784, 0.9725, 0.3451, 0.0000],\n",
      "          [0.0000, 0.0000, 0.0000, 0.0000, 0.0000, 0.0000, 0.0000, 0.0000,\n",
      "           0.0196, 0.0000, 0.0000, 0.0000, 0.6118, 0.9647, 0.7608, 0.8510,\n",
      "           0.8039, 0.8314, 0.9333, 0.7725, 0.8588, 0.9176, 0.8863, 0.9294,\n",
      "           0.8863, 0.9059, 0.6196, 0.0000],\n",
      "          [0.0000, 0.0000, 0.0000, 0.0039, 0.0078, 0.0118, 0.0353, 0.0000,\n",
      "           0.0000, 0.0000, 0.1059, 0.7804, 0.8824, 0.6667, 0.8039, 0.8039,\n",
      "           0.8039, 0.8667, 0.9333, 0.7647, 0.8941, 0.9020, 0.8863, 0.8863,\n",
      "           0.8118, 0.8000, 0.6902, 0.0000],\n",
      "          [0.0000, 0.0118, 0.0078, 0.0000, 0.0000, 0.0000, 0.0000, 0.0000,\n",
      "           0.1294, 0.5373, 0.8510, 0.8588, 0.6039, 0.7490, 0.8078, 0.8314,\n",
      "           0.7451, 0.9569, 0.8745, 0.7529, 0.8980, 0.8745, 0.9020, 0.8196,\n",
      "           0.7451, 0.8078, 0.8275, 0.0000],\n",
      "          [0.0118, 0.0000, 0.0000, 0.0000, 0.0000, 0.0863, 0.4275, 0.7294,\n",
      "           0.7686, 0.8000, 0.8000, 0.6196, 0.7412, 0.8627, 0.9216, 0.8353,\n",
      "           0.8235, 0.9333, 0.7843, 0.7765, 0.9137, 0.8941, 0.8471, 0.7804,\n",
      "           0.7529, 0.7882, 0.9843, 0.1255],\n",
      "          [0.0000, 0.0863, 0.3725, 0.4941, 0.6588, 0.7882, 0.8314, 0.8157,\n",
      "           0.8078, 0.8353, 0.8392, 0.8353, 0.8549, 0.9098, 0.9255, 0.8824,\n",
      "           0.8941, 0.9373, 0.7804, 0.8392, 0.8941, 0.8863, 0.8000, 0.7725,\n",
      "           0.7725, 0.7569, 0.8314, 0.1569],\n",
      "          [0.4196, 0.6627, 0.6431, 0.6118, 0.6431, 0.7137, 0.7098, 0.7373,\n",
      "           0.7765, 0.8314, 0.8549, 0.9412, 0.8078, 0.8235, 0.8471, 0.8824,\n",
      "           0.8706, 0.8941, 0.7882, 0.9098, 0.9059, 0.8706, 0.8118, 0.8275,\n",
      "           0.8392, 0.7922, 0.8275, 0.1529],\n",
      "          [0.6000, 0.8039, 0.8000, 0.8196, 0.7922, 0.7451, 0.7255, 0.7176,\n",
      "           0.7020, 0.6941, 0.6941, 0.7098, 0.7490, 0.8353, 0.8627, 0.9255,\n",
      "           0.9216, 0.9412, 0.9451, 0.9059, 0.8627, 0.9176, 0.8510, 0.8392,\n",
      "           0.8157, 0.7529, 0.8196, 0.1098],\n",
      "          [0.0000, 0.2196, 0.4588, 0.5804, 0.7569, 0.8745, 0.9373, 0.9412,\n",
      "           0.9490, 0.9412, 0.9529, 0.9412, 0.9882, 1.0000, 0.9922, 0.8980,\n",
      "           0.7294, 0.5882, 0.3843, 0.6118, 0.6941, 0.5176, 0.5529, 0.5686,\n",
      "           0.5843, 0.5451, 0.6627, 0.1373],\n",
      "          [0.0000, 0.0000, 0.0000, 0.0000, 0.0000, 0.0275, 0.1059, 0.2275,\n",
      "           0.3686, 0.4431, 0.4902, 0.4863, 0.4314, 0.2667, 0.1294, 0.0000,\n",
      "           0.0000, 0.0000, 0.0000, 0.0000, 0.6471, 0.5882, 0.5686, 0.5412,\n",
      "           0.4824, 0.4392, 0.4471, 0.0431],\n",
      "          [0.0000, 0.0000, 0.0000, 0.0000, 0.0000, 0.0000, 0.0000, 0.0000,\n",
      "           0.0000, 0.0000, 0.0000, 0.0000, 0.0000, 0.0000, 0.0000, 0.0000,\n",
      "           0.0000, 0.0000, 0.0000, 0.0000, 0.0000, 0.0000, 0.0000, 0.0000,\n",
      "           0.0000, 0.0000, 0.0000, 0.0000],\n",
      "          [0.0000, 0.0000, 0.0000, 0.0000, 0.0000, 0.0000, 0.0000, 0.0000,\n",
      "           0.0000, 0.0000, 0.0000, 0.0000, 0.0000, 0.0000, 0.0000, 0.0000,\n",
      "           0.0000, 0.0000, 0.0000, 0.0000, 0.0000, 0.0000, 0.0000, 0.0000,\n",
      "           0.0000, 0.0000, 0.0000, 0.0000],\n",
      "          [0.0000, 0.0000, 0.0000, 0.0000, 0.0000, 0.0000, 0.0000, 0.0000,\n",
      "           0.0000, 0.0000, 0.0000, 0.0000, 0.0000, 0.0000, 0.0000, 0.0000,\n",
      "           0.0000, 0.0000, 0.0000, 0.0000, 0.0000, 0.0000, 0.0000, 0.0000,\n",
      "           0.0000, 0.0000, 0.0000, 0.0000],\n",
      "          [0.0000, 0.0000, 0.0000, 0.0000, 0.0000, 0.0000, 0.0000, 0.0000,\n",
      "           0.0000, 0.0000, 0.0000, 0.0000, 0.0000, 0.0000, 0.0000, 0.0000,\n",
      "           0.0000, 0.0000, 0.0000, 0.0000, 0.0000, 0.0000, 0.0000, 0.0000,\n",
      "           0.0000, 0.0000, 0.0000, 0.0000],\n",
      "          [0.0000, 0.0000, 0.0000, 0.0000, 0.0000, 0.0000, 0.0000, 0.0000,\n",
      "           0.0000, 0.0000, 0.0000, 0.0000, 0.0000, 0.0000, 0.0000, 0.0000,\n",
      "           0.0000, 0.0000, 0.0000, 0.0000, 0.0000, 0.0000, 0.0000, 0.0000,\n",
      "           0.0000, 0.0000, 0.0000, 0.0000]]]]) tensor([9])\n"
     ]
    }
   ],
   "source": [
    "for i, (X,y) in enumerate(train_loader):\n",
    "    print(X,y)\n",
    "    break"
   ]
  }
 ],
 "metadata": {
  "kernelspec": {
   "display_name": "Python 3",
   "language": "python",
   "name": "python3"
  },
  "language_info": {
   "codemirror_mode": {
    "name": "ipython",
    "version": 3
   },
   "file_extension": ".py",
   "mimetype": "text/x-python",
   "name": "python",
   "nbconvert_exporter": "python",
   "pygments_lexer": "ipython3",
   "version": "3.6.9"
  }
 },
 "nbformat": 4,
 "nbformat_minor": 2
}
