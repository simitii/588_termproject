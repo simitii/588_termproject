{
 "cells": [
  {
   "cell_type": "code",
   "execution_count": 1,
   "metadata": {},
   "outputs": [],
   "source": [
    "import torch\n",
    "import torchvision.transforms as transforms\n",
    "import torchvision.datasets as datasets\n",
    "\n",
    "fashion_train = datasets.FashionMNIST(\"./fashion_mnist\", train=True,\n",
    "       download=True, transform=transforms.ToTensor())\n",
    "train_loader = torch.utils.data.DataLoader(fashion_train, batch_size=1, shuffle=True, pin_memory=True)"
   ]
  },
  {
   "cell_type": "code",
   "execution_count": 2,
   "metadata": {},
   "outputs": [],
   "source": [
    "trainset = list(train_loader)"
   ]
  },
  {
   "cell_type": "code",
   "execution_count": 3,
   "metadata": {},
   "outputs": [
    {
     "data": {
      "text/plain": [
       "tensor([[[[0.0000, 0.0000, 0.0000, 0.0000, 0.0000, 0.0000, 0.0000, 0.0000,\n",
       "           0.0000, 0.0000, 0.0000, 0.0902, 0.2667, 0.3725, 0.4039, 0.3412,\n",
       "           0.2588, 0.1412, 0.0000, 0.0000, 0.0000, 0.0000, 0.0000, 0.0000,\n",
       "           0.0000, 0.0000, 0.0000, 0.0000],\n",
       "          [0.0000, 0.0000, 0.0000, 0.0000, 0.0000, 0.0000, 0.0000, 0.0000,\n",
       "           0.0000, 0.0000, 0.5216, 0.6196, 0.6314, 0.6784, 0.7216, 0.6980,\n",
       "           0.6392, 0.7373, 0.6314, 0.0000, 0.0000, 0.0000, 0.0000, 0.0000,\n",
       "           0.0000, 0.0000, 0.0000, 0.0000],\n",
       "          [0.0000, 0.0000, 0.0000, 0.0000, 0.0000, 0.0000, 0.0039, 0.0118,\n",
       "           0.0000, 0.0431, 0.5765, 0.7294, 0.6863, 0.6039, 0.6471, 0.6471,\n",
       "           0.8078, 0.7961, 0.4863, 0.0000, 0.0000, 0.0078, 0.0000, 0.0000,\n",
       "           0.0000, 0.0000, 0.0000, 0.0000],\n",
       "          [0.0000, 0.0000, 0.0000, 0.0000, 0.0000, 0.0000, 0.0000, 0.0039,\n",
       "           0.0000, 0.0353, 0.5569, 0.6627, 0.7333, 0.6039, 0.7765, 0.6471,\n",
       "           0.7608, 0.6784, 0.4392, 0.1961, 0.0000, 0.0078, 0.0000, 0.0000,\n",
       "           0.0000, 0.0000, 0.0000, 0.0000],\n",
       "          [0.0000, 0.0000, 0.0000, 0.0000, 0.0000, 0.0000, 0.0000, 0.0000,\n",
       "           0.0000, 0.6078, 0.6471, 0.5569, 0.3882, 0.4941, 0.3490, 0.3608,\n",
       "           0.3725, 0.4588, 0.5529, 0.4235, 0.0000, 0.0000, 0.0000, 0.0000,\n",
       "           0.0000, 0.0000, 0.0000, 0.0000],\n",
       "          [0.0000, 0.0000, 0.0000, 0.0000, 0.0000, 0.0000, 0.0000, 0.1373,\n",
       "           0.4392, 0.6353, 0.5255, 0.5569, 0.3765, 0.5216, 0.3804, 0.4745,\n",
       "           0.4235, 0.3020, 0.5098, 0.5882, 0.4627, 0.1490, 0.0000, 0.0039,\n",
       "           0.0000, 0.0000, 0.0000, 0.0000],\n",
       "          [0.0000, 0.0000, 0.0000, 0.0000, 0.0000, 0.0000, 0.0745, 0.6549,\n",
       "           0.5098, 0.4588, 0.4471, 0.5529, 0.3294, 0.4039, 0.4235, 0.4863,\n",
       "           0.3961, 0.4392, 0.7098, 0.4196, 0.5020, 0.5765, 0.0510, 0.0000,\n",
       "           0.0000, 0.0000, 0.0000, 0.0000],\n",
       "          [0.0000, 0.0000, 0.0000, 0.0000, 0.0000, 0.0000, 0.3922, 0.5569,\n",
       "           0.4118, 0.4431, 0.4471, 0.5098, 0.3020, 0.4392, 0.4078, 0.4706,\n",
       "           0.4039, 0.4471, 0.4588, 0.4118, 0.4118, 0.4902, 0.3137, 0.0000,\n",
       "           0.0000, 0.0000, 0.0000, 0.0000],\n",
       "          [0.0000, 0.0000, 0.0000, 0.0000, 0.0000, 0.0000, 0.4784, 0.5686,\n",
       "           0.5216, 0.4118, 0.4039, 0.5373, 0.7686, 0.3804, 0.4549, 0.3922,\n",
       "           0.5882, 0.3569, 0.3451, 0.4275, 0.4275, 0.4392, 0.4275, 0.0000,\n",
       "           0.0000, 0.0000, 0.0000, 0.0000],\n",
       "          [0.0000, 0.0000, 0.0000, 0.0000, 0.0000, 0.0588, 0.6000, 0.4549,\n",
       "           0.6510, 0.4196, 0.3961, 0.5255, 0.7216, 0.3490, 0.4431, 0.3647,\n",
       "           0.6941, 1.0000, 0.7333, 0.3020, 0.4902, 0.4431, 0.4745, 0.0353,\n",
       "           0.0000, 0.0000, 0.0000, 0.0000],\n",
       "          [0.0000, 0.0000, 0.0000, 0.0000, 0.0000, 0.3020, 0.6314, 0.3490,\n",
       "           0.7922, 0.7137, 0.3333, 0.3922, 0.3569, 0.4275, 0.4118, 0.4196,\n",
       "           0.3608, 0.4784, 0.4784, 0.3569, 0.6314, 0.3647, 0.4745, 0.0902,\n",
       "           0.0000, 0.0000, 0.0000, 0.0000],\n",
       "          [0.0000, 0.0000, 0.0000, 0.0000, 0.0000, 0.1882, 0.5647, 0.3765,\n",
       "           0.7176, 0.6667, 0.4235, 0.4118, 0.4078, 0.4118, 0.4235, 0.3961,\n",
       "           0.4196, 0.3725, 0.3176, 0.5255, 0.8118, 0.3608, 0.5020, 0.1373,\n",
       "           0.0000, 0.0000, 0.0000, 0.0000],\n",
       "          [0.0000, 0.0000, 0.0000, 0.0000, 0.0000, 0.2353, 0.5569, 0.3961,\n",
       "           0.7529, 0.6392, 0.4941, 0.4431, 0.4275, 0.4118, 0.4196, 0.4196,\n",
       "           0.4275, 0.4431, 0.4196, 0.5059, 0.7843, 0.4431, 0.4745, 0.1843,\n",
       "           0.0000, 0.0000, 0.0000, 0.0000],\n",
       "          [0.0000, 0.0000, 0.0000, 0.0000, 0.0000, 0.2784, 0.5333, 0.4588,\n",
       "           0.6980, 0.5922, 0.4941, 0.4392, 0.4314, 0.4235, 0.4196, 0.4235,\n",
       "           0.4314, 0.4196, 0.4275, 0.4588, 0.5412, 0.5255, 0.4745, 0.2118,\n",
       "           0.0000, 0.0000, 0.0000, 0.0000],\n",
       "          [0.0000, 0.0000, 0.0000, 0.0000, 0.0000, 0.3098, 0.4902, 0.5098,\n",
       "           0.4078, 0.5412, 0.5333, 0.4392, 0.4275, 0.4235, 0.4235, 0.4235,\n",
       "           0.4196, 0.4078, 0.4235, 0.4471, 0.3333, 0.6039, 0.4627, 0.2431,\n",
       "           0.0000, 0.0000, 0.0000, 0.0000],\n",
       "          [0.0000, 0.0000, 0.0000, 0.0000, 0.0000, 0.3608, 0.4745, 0.5647,\n",
       "           0.2784, 0.5216, 0.5216, 0.4588, 0.4549, 0.4392, 0.4275, 0.4275,\n",
       "           0.4275, 0.4118, 0.4392, 0.4549, 0.2000, 0.6510, 0.4549, 0.2745,\n",
       "           0.0000, 0.0000, 0.0000, 0.0000],\n",
       "          [0.0000, 0.0000, 0.0000, 0.0000, 0.0000, 0.3882, 0.4627, 0.5765,\n",
       "           0.1725, 0.5216, 0.5569, 0.4627, 0.4706, 0.4471, 0.4314, 0.4314,\n",
       "           0.4275, 0.4078, 0.4706, 0.4431, 0.1294, 0.6784, 0.4588, 0.3020,\n",
       "           0.0000, 0.0000, 0.0000, 0.0000],\n",
       "          [0.0000, 0.0000, 0.0000, 0.0000, 0.0000, 0.4314, 0.4549, 0.6314,\n",
       "           0.0824, 0.4745, 0.5569, 0.4627, 0.4588, 0.4431, 0.4314, 0.4275,\n",
       "           0.4235, 0.4196, 0.4471, 0.4588, 0.1137, 0.6824, 0.4471, 0.3451,\n",
       "           0.0000, 0.0000, 0.0000, 0.0000],\n",
       "          [0.0000, 0.0000, 0.0000, 0.0000, 0.0000, 0.4745, 0.4588, 0.6510,\n",
       "           0.0078, 0.5059, 0.5490, 0.4471, 0.4627, 0.4471, 0.4275, 0.4314,\n",
       "           0.4392, 0.4118, 0.4431, 0.4471, 0.1216, 0.6980, 0.4471, 0.3765,\n",
       "           0.0000, 0.0000, 0.0000, 0.0000],\n",
       "          [0.0000, 0.0000, 0.0000, 0.0000, 0.0000, 0.4902, 0.4627, 0.6157,\n",
       "           0.0549, 0.5725, 0.5098, 0.4627, 0.4784, 0.4588, 0.4314, 0.4431,\n",
       "           0.4431, 0.4235, 0.4275, 0.4549, 0.1490, 0.6824, 0.4549, 0.4078,\n",
       "           0.0000, 0.0000, 0.0000, 0.0000],\n",
       "          [0.0000, 0.0000, 0.0000, 0.0000, 0.0000, 0.5176, 0.4863, 0.5647,\n",
       "           0.1529, 0.6078, 0.5020, 0.4784, 0.4863, 0.4706, 0.4549, 0.4588,\n",
       "           0.4392, 0.4431, 0.4314, 0.4902, 0.3765, 0.6078, 0.4863, 0.4196,\n",
       "           0.0000, 0.0000, 0.0000, 0.0000],\n",
       "          [0.0000, 0.0000, 0.0000, 0.0000, 0.0000, 0.5176, 0.4902, 0.5098,\n",
       "           0.2118, 0.6471, 0.4627, 0.4784, 0.4745, 0.4627, 0.4627, 0.4549,\n",
       "           0.4431, 0.4431, 0.4275, 0.4941, 0.2510, 0.6039, 0.4941, 0.4118,\n",
       "           0.0000, 0.0000, 0.0000, 0.0000],\n",
       "          [0.0000, 0.0000, 0.0000, 0.0000, 0.0000, 0.5373, 0.5098, 0.4745,\n",
       "           0.3294, 0.6196, 0.4706, 0.4863, 0.4706, 0.4627, 0.4745, 0.4588,\n",
       "           0.4431, 0.4471, 0.4196, 0.4941, 0.2353, 0.5765, 0.5216, 0.4431,\n",
       "           0.0000, 0.0000, 0.0000, 0.0000],\n",
       "          [0.0000, 0.0000, 0.0000, 0.0000, 0.0000, 0.5098, 0.5176, 0.4863,\n",
       "           0.4314, 0.5020, 0.4549, 0.4745, 0.4784, 0.4784, 0.4745, 0.4627,\n",
       "           0.4471, 0.4549, 0.4275, 0.4627, 0.3490, 0.6000, 0.4902, 0.4431,\n",
       "           0.0000, 0.0000, 0.0000, 0.0000],\n",
       "          [0.0000, 0.0000, 0.0000, 0.0000, 0.0000, 0.5412, 0.6078, 0.4039,\n",
       "           0.4118, 0.7294, 0.5216, 0.5490, 0.5647, 0.5725, 0.5686, 0.5529,\n",
       "           0.5412, 0.5216, 0.4902, 0.5176, 0.3647, 0.5176, 0.5843, 0.4431,\n",
       "           0.0000, 0.0000, 0.0000, 0.0000],\n",
       "          [0.0000, 0.0000, 0.0000, 0.0000, 0.0000, 0.4941, 0.6784, 0.2784,\n",
       "           0.5333, 0.9608, 0.5412, 0.5490, 0.5490, 0.5529, 0.5569, 0.5529,\n",
       "           0.5529, 0.5373, 0.5216, 0.6078, 0.4235, 0.3647, 0.6941, 0.4078,\n",
       "           0.0000, 0.0000, 0.0000, 0.0000],\n",
       "          [0.0000, 0.0000, 0.0000, 0.0000, 0.0000, 0.5098, 0.6667, 0.3804,\n",
       "           0.2275, 0.7922, 0.3255, 0.3765, 0.3882, 0.3922, 0.3804, 0.3804,\n",
       "           0.3804, 0.3647, 0.3569, 0.4196, 0.2275, 0.4588, 0.6706, 0.4118,\n",
       "           0.0000, 0.0000, 0.0000, 0.0000],\n",
       "          [0.0000, 0.0000, 0.0000, 0.0000, 0.0000, 0.4196, 0.5765, 0.3176,\n",
       "           0.0000, 0.0000, 0.0000, 0.0000, 0.0000, 0.0000, 0.0000, 0.0000,\n",
       "           0.0000, 0.0000, 0.0000, 0.0000, 0.0000, 0.3804, 0.5922, 0.3451,\n",
       "           0.0000, 0.0000, 0.0000, 0.0000]]]])"
      ]
     },
     "execution_count": 3,
     "metadata": {},
     "output_type": "execute_result"
    }
   ],
   "source": [
    "trainset[7][0]"
   ]
  },
  {
   "cell_type": "code",
   "execution_count": 15,
   "metadata": {},
   "outputs": [
    {
     "data": {
      "text/plain": [
       "<matplotlib.image.AxesImage at 0x128b2c0f0>"
      ]
     },
     "execution_count": 15,
     "metadata": {},
     "output_type": "execute_result"
    },
    {
     "data": {
      "image/png": "[encoded data removed]",
      "text/plain": [
       "<Figure size 432x288 with 1 Axes>"
      ]
     },
     "metadata": {
      "needs_background": "light"
     },
     "output_type": "display_data"
    }
   ],
   "source": [
    "import matplotlib.pyplot as plt \n",
    "plt.imshow(trainset[7][0].reshape(28,28))"
   ]
  },
  {
   "cell_type": "code",
   "execution_count": 29,
   "metadata": {},
   "outputs": [],
   "source": [
    "import numpy as np"
   ]
  },
  {
   "cell_type": "code",
   "execution_count": 40,
   "metadata": {},
   "outputs": [],
   "source": [
    "class_dict = dict()\n",
    "for i, (X,y) in enumerate(train_loader):\n",
    "    y = y.item()\n",
    "    X = X.numpy()\n",
    "    if not y in class_dict:\n",
    "        class_dict[y] = [X]\n",
    "    else:\n",
    "        class_dict[y].append(X)"
   ]
  },
  {
   "cell_type": "code",
   "execution_count": 47,
   "metadata": {},
   "outputs": [],
   "source": [
    "from pyflann import FLANN\n",
    "\n",
    "flann_dict = dict()\n",
    "for y in class_dict:\n",
    "    mflann = FLANN()\n",
    "    class_examples = np.array(class_dict[y])\n",
    "    class_size = len(class_examples)\n",
    "    image_shape = class_examples.shape[1:]\n",
    "    mflann.build_index(class_examples.reshape(class_size, np.prod(image_shape)))\n",
    "    flann_dict[y] = mflann"
   ]
  },
  {
   "cell_type": "code",
   "execution_count": 122,
   "metadata": {},
   "outputs": [],
   "source": [
    "target_epsilon = 0.1\n",
    "batch_size = 64"
   ]
  },
  {
   "cell_type": "code",
   "execution_count": 112,
   "metadata": {},
   "outputs": [],
   "source": [
    "dataset_with_dist = []\n",
    "\n",
    "for i, (X,y) in enumerate(train_loader):\n",
    "    y = y.item()\n",
    "    X = X.numpy()\n",
    "    smallest_dist = np.inf\n",
    "    for _y in class_dict:\n",
    "        if _y != y:\n",
    "            _, dist = flann_dict[_y].nn_index(X.reshape(-1), 1)\n",
    "            if dist[0] < smallest_dist:\n",
    "                smallest_dist = dist[0]\n",
    "    if smallest_dist == np.inf:\n",
    "        print(i)\n",
    "    dataset_with_dist.append(np.array([X,y, smallest_dist]))\n",
    "\n",
    "dataset_with_eps = np.array(dataset_with_dist)\n",
    "dataset_with_eps[:,2] = target_epsilon * dataset_with_eps[:,2] / np.max(dataset_with_eps[:,2])"
   ]
  },
  {
   "cell_type": "code",
   "execution_count": 118,
   "metadata": {},
   "outputs": [],
   "source": [
    "new_order = np.argsort(dataset_with_eps[:,2])[::-1]\n",
    "dataset_with_eps = dataset_with_eps[new_order]"
   ]
  },
  {
   "cell_type": "code",
   "execution_count": 127,
   "metadata": {},
   "outputs": [],
   "source": [
    "X = dataset_with_eps[:,0]\n",
    "Y = dataset_with_eps[:,1]\n",
    "eps = dataset_with_eps[:,2]"
   ]
  },
  {
   "cell_type": "code",
   "execution_count": 128,
   "metadata": {},
   "outputs": [
    {
     "data": {
      "text/plain": [
       "array([0.1, 0.06969992350852602, 0.06948681003673508, ...,\n",
       "       0.0015426289719544105, 0.0015426289719544105,\n",
       "       0.0015008990570591274], dtype=object)"
      ]
     },
     "execution_count": 128,
     "metadata": {},
     "output_type": "execute_result"
    }
   ],
   "source": []
  },
  {
   "cell_type": "code",
   "execution_count": 124,
   "metadata": {},
   "outputs": [],
   "source": [
    "batches = []\n",
    "for i in range(int(len(dataset_with_eps)/batch_size)):\n",
    "    batches.append(dataset_with_eps[i*batch_size:(i+1)*batch_size])"
   ]
  },
  {
   "cell_type": "code",
   "execution_count": 126,
   "metadata": {},
   "outputs": [
    {
     "data": {
      "text/plain": [
       "64"
      ]
     },
     "execution_count": 126,
     "metadata": {},
     "output_type": "execute_result"
    }
   ],
   "source": []
  },
  {
   "cell_type": "code",
   "execution_count": 119,
   "metadata": {},
   "outputs": [
    {
     "data": {
      "text/plain": [
       "60000"
      ]
     },
     "execution_count": 119,
     "metadata": {},
     "output_type": "execute_result"
    }
   ],
   "source": [
    "len(dataset_with_eps)"
   ]
  },
  {
   "cell_type": "code",
   "execution_count": 121,
   "metadata": {},
   "outputs": [
    {
     "data": {
      "text/plain": [
       "array([0.0018959344394058415, 0.0018959344394058415,\n",
       "       0.0018933336609704696, 0.001882252947636627, 0.0016256900819848468,\n",
       "       0.0015990506180111482, 0.0015990506180111482,\n",
       "       0.0015426289719544105, 0.0015426289719544105,\n",
       "       0.0015008990570591274], dtype=object)"
      ]
     },
     "execution_count": 121,
     "metadata": {},
     "output_type": "execute_result"
    }
   ],
   "source": [
    "dataset_with_eps[-10]"
   ]
  },
  {
   "cell_type": "code",
   "execution_count": null,
   "metadata": {},
   "outputs": [],
   "source": []
  }
 ],
 "metadata": {
  "kernelspec": {
   "display_name": "Python 3",
   "language": "python",
   "name": "python3"
  },
  "language_info": {
   "codemirror_mode": {
    "name": "ipython",
    "version": 3
   },
   "file_extension": ".py",
   "mimetype": "text/x-python",
   "name": "python",
   "nbconvert_exporter": "python",
   "pygments_lexer": "ipython3",
   "version": "3.6.9"
  }
 },
 "nbformat": 4,
 "nbformat_minor": 2
}
